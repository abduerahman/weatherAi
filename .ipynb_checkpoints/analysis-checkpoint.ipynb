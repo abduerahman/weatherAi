{
 "cells": [
  {
   "cell_type": "code",
   "execution_count": 16,
   "id": "938ee668",
   "metadata": {},
   "outputs": [],
   "source": [
    "import pandas as pd;\n",
    "import numpy as np;\n",
    "import matplotlib.pyplot as plt"
   ]
  },
  {
   "cell_type": "code",
   "execution_count": 11,
   "id": "3ac6e693",
   "metadata": {},
   "outputs": [],
   "source": [
    "df = pd.read_csv(\"finalv1.0.csv\")\n",
    "df = df.iloc[:, 2:]"
   ]
  },
  {
   "cell_type": "code",
   "execution_count": 30,
   "id": "9d406e82",
   "metadata": {},
   "outputs": [],
   "source": [
    "# how the min temp and max temp change over time and related to each other;\n",
    "x = df['MinTemp']\n",
    "y = df['MaxTemp']"
   ]
  },
  {
   "cell_type": "code",
   "execution_count": null,
   "id": "89014d72",
   "metadata": {},
   "outputs": [],
   "source": [
    "plt.scatter(x, y)\n",
    "plt.xlabel('MinTemp')\n",
    "plt.ylabel('Max Temp')\n",
    "plt.title('Scatter plot of Column X vs Column Y')\n",
    "\n",
    "# Display the plot\n",
    "plt.show()"
   ]
  },
  {
   "cell_type": "code",
   "execution_count": null,
   "id": "36fd9331",
   "metadata": {},
   "outputs": [],
   "source": []
  }
 ],
 "metadata": {
  "kernelspec": {
   "display_name": "Python 3 (ipykernel)",
   "language": "python",
   "name": "python3"
  },
  "language_info": {
   "codemirror_mode": {
    "name": "ipython",
    "version": 3
   },
   "file_extension": ".py",
   "mimetype": "text/x-python",
   "name": "python",
   "nbconvert_exporter": "python",
   "pygments_lexer": "ipython3",
   "version": "3.10.11"
  }
 },
 "nbformat": 4,
 "nbformat_minor": 5
}
