{
 "cells": [
  {
   "cell_type": "code",
   "execution_count": 140,
   "metadata": {
    "id": "MkGcwSIGkT_l"
   },
   "outputs": [],
   "source": [
    "from sklearn.datasets import load_iris\n",
    "from sklearn.naive_bayes import GaussianNB\n",
    "from sklearn.model_selection import train_test_split\n",
    "from sklearn.ensemble import RandomForestClassifier\n",
    "from sklearn.datasets import make_classification\n",
    "from sklearn.model_selection import train_test_split\n",
    "import pandas as pd;\n",
    "import numpy as np"
   ]
  },
  {
   "cell_type": "code",
   "execution_count": 141,
   "metadata": {
    "id": "rIY983vIpWMl"
   },
   "outputs": [],
   "source": [
    "city_name = {\"Albury\":1,\"BadgreyCreek\":2,\"Cobar\":3,\"CoffsHarbour\":4,\"Moree\":5,\"Newcastle\":6}\n",
    "day_per_mouth = [31,28,31,30,31,30,31,31,30,31,30,31]\n",
    "pro = {\"Yes\":1,\"No\":0}"
   ]
  },
  {
   "cell_type": "code",
   "execution_count": 142,
   "metadata": {
    "id": "9gRD2K2BpYn8"
   },
   "outputs": [],
   "source": [
    "data = pd.read_csv(\"weather.csv\")\n",
    "data = data.drop(\"Evaporation\",axis=1)\n",
    "data = data.drop(\"Sunshine\",axis=1)"
   ]
  },
  {
   "cell_type": "code",
   "execution_count": 143,
   "metadata": {
    "id": "4r5VJmSPpaHx"
   },
   "outputs": [],
   "source": [
    "from datetime import date\n",
    "def updating_data_column(column):\n",
    "    for i in range(len(column)):\n",
    "        temp = column[i].split('-')\n",
    "        temp[0] = temp[0][2:4]\n",
    "        column[i] = int(''.join(temp))\n",
    "    return column;"
   ]
  },
  {
   "cell_type": "code",
   "execution_count": 144,
   "metadata": {
    "id": "M1jpivGxpdy3"
   },
   "outputs": [],
   "source": [
    "def transforming(column,values):\n",
    "  index = 0\n",
    "  for i in column:\n",
    "    if(i not in values):\n",
    "      index += 1;\n",
    "      values.update({i:index})\n",
    "  return values;"
   ]
  },
  {
   "cell_type": "code",
   "execution_count": 145,
   "metadata": {
    "id": "tIRfn6XPu-Gu"
   },
   "outputs": [],
   "source": [
    "column = data['WindDir3pm']\n",
    "column2 = data['WindDir9am']\n",
    "column3 = data['WindGustDir']\n",
    "values = transforming(column,{})\n",
    "values = transforming(column2,values)\n",
    "values = transforming(column3,values)\n",
    "info = {}\n",
    "for i in values:\n",
    "  if(values[i] != 16):\n",
    "    info.setdefault(i,values[i])"
   ]
  },
  {
   "cell_type": "code",
   "execution_count": 146,
   "metadata": {
    "colab": {
     "base_uri": "https://localhost:8080/"
    },
    "id": "Z3DMTC0jvSX4",
    "outputId": "f7d1f7e6-96eb-4238-b724-89e6d55cb326"
   },
   "outputs": [
    {
     "name": "stderr",
     "output_type": "stream",
     "text": [
      "<ipython-input-143-fbe1861e946e>:6: SettingWithCopyWarning: \n",
      "A value is trying to be set on a copy of a slice from a DataFrame\n",
      "\n",
      "See the caveats in the documentation: https://pandas.pydata.org/pandas-docs/stable/user_guide/indexing.html#returning-a-view-versus-a-copy\n",
      "  column[i] = int(''.join(temp))\n"
     ]
    }
   ],
   "source": [
    "data['WindDir3pm'] = data['WindDir3pm'].map(values)\n",
    "data['WindDir9am'] = data['WindDir9am'].map(values)\n",
    "data['WindGustDir'] = data['WindGustDir'].map(values)\n",
    "data['Location'] = data['Location'].map(city_name)\n",
    "data['RainToday'] = data['RainToday'].map(pro)\n",
    "data['RainTomorrow'] = data['RainTomorrow'].map(pro)\n",
    "data['Date'] = updating_data_column(data['Date'])"
   ]
  },
  {
   "cell_type": "markdown",
   "metadata": {
    "id": "qJo9411I4GjT"
   },
   "source": []
  },
  {
   "cell_type": "code",
   "execution_count": 147,
   "metadata": {
    "id": "Mp6zHCxG39xm"
   },
   "outputs": [],
   "source": [
    "def filling_out(df):\n",
    "  for col in df.columns:\n",
    "    Q1 = df[col].quantile(0.25)\n",
    "    Q3 = df[col].quantile(0.75)\n",
    "    IQR = Q3 - Q1\n",
    "\n",
    "    # Identify outliers based on the IQR\n",
    "    outliers = df[(df[col] < Q1 - 1.5 * IQR) | (df[col] > Q3 + 1.5 * IQR)]\n",
    "\n",
    "    # Calculate the mean of the column, excluding the outliers\n",
    "    mean = df[~df[col].isin(outliers[col])][col].mean()\n",
    "\n",
    "    # Replace the outliers with the mean value\n",
    "    df.loc[outliers.index,col] = mean\n",
    "\n",
    "    # Remove the outliers from the DataFrame\n",
    "    df = df[~df[col].isin(outliers[col])]\n",
    "  return df"
   ]
  },
  {
   "cell_type": "code",
   "execution_count": 148,
   "metadata": {
    "colab": {
     "base_uri": "https://localhost:8080/"
    },
    "id": "aQPnN6o6sC2d",
    "outputId": "925f702a-3070-4ca3-baa5-c586b6e3f0b6"
   },
   "outputs": [
    {
     "name": "stdout",
     "output_type": "stream",
     "text": [
      "<class 'pandas.core.frame.DataFrame'>\n",
      "RangeIndex: 25000 entries, 0 to 24999\n",
      "Data columns (total 22 columns):\n",
      " #   Column         Non-Null Count  Dtype  \n",
      "---  ------         --------------  -----  \n",
      " 0   Date           25000 non-null  object \n",
      " 1   Location       14761 non-null  float64\n",
      " 2   MinTemp        24669 non-null  float64\n",
      " 3   MaxTemp        24824 non-null  float64\n",
      " 4   Rainfall       24721 non-null  float64\n",
      " 5   WindGustDir    25000 non-null  int64  \n",
      " 6   WindGustSpeed  21545 non-null  float64\n",
      " 7   WindDir9am     25000 non-null  int64  \n",
      " 8   WindDir3pm     25000 non-null  int64  \n",
      " 9   WindSpeed9am   24428 non-null  float64\n",
      " 10  WindSpeed3pm   23770 non-null  float64\n",
      " 11  Humidity9am    24609 non-null  float64\n",
      " 12  Humidity3pm    23936 non-null  float64\n",
      " 13  Pressure9am    20172 non-null  float64\n",
      " 14  Pressure3pm    20173 non-null  float64\n",
      " 15  Cloud9am       14136 non-null  float64\n",
      " 16  Cloud3pm       13815 non-null  float64\n",
      " 17  Temp9am        24755 non-null  float64\n",
      " 18  Temp3pm        24082 non-null  float64\n",
      " 19  RainToday      24721 non-null  float64\n",
      " 20  RISK_MM        25000 non-null  float64\n",
      " 21  RainTomorrow   25000 non-null  int64  \n",
      "dtypes: float64(17), int64(4), object(1)\n",
      "memory usage: 4.2+ MB\n",
      "None\n"
     ]
    }
   ],
   "source": [
    "data = data.iloc[:, 1:]\n",
    "print(data.info())"
   ]
  },
  {
   "cell_type": "code",
   "execution_count": 149,
   "metadata": {
    "id": "L8snf_DHpiw-"
   },
   "outputs": [],
   "source": [
    "i = 0;\n",
    "j = 0;\n",
    "index = 0;\n",
    "while(j < len(data)):\n",
    "    j += day_per_mouth[index]\n",
    "    if(j > len(data)):\n",
    "      j = len(data)\n",
    "    temp_data = data[i:j]\n",
    "    for col_name in temp_data.columns:\n",
    "      temp_data =  temp_data.fillna(temp_data.mean())\n",
    "      temp_data = filling_out(temp_data)\n",
    "    index += 1;\n",
    "    if(index > 11):\n",
    "        index = 0\n",
    "    i = j"
   ]
  },
  {
   "cell_type": "code",
   "execution_count": 150,
   "metadata": {
    "colab": {
     "base_uri": "https://localhost:8080/"
    },
    "id": "BxOJGSiKsu01",
    "outputId": "3604a367-a681-48e0-b03d-1540f32fbdfc"
   },
   "outputs": [
    {
     "name": "stdout",
     "output_type": "stream",
     "text": [
      "Date             0\n",
      "Location         0\n",
      "MinTemp          0\n",
      "MaxTemp          0\n",
      "Rainfall         0\n",
      "WindGustDir      0\n",
      "WindGustSpeed    0\n",
      "WindDir9am       0\n",
      "WindDir3pm       0\n",
      "WindSpeed9am     0\n",
      "WindSpeed3pm     0\n",
      "Humidity9am      0\n",
      "Humidity3pm      0\n",
      "Pressure9am      0\n",
      "Pressure3pm      0\n",
      "Cloud9am         0\n",
      "Cloud3pm         0\n",
      "Temp9am          0\n",
      "Temp3pm          0\n",
      "RainToday        0\n",
      "RISK_MM          0\n",
      "RainTomorrow     0\n",
      "dtype: int64\n"
     ]
    }
   ],
   "source": [
    "data = data.fillna(data.mean())\n",
    "data = filling_out(data);\n",
    "print(data.isnull().sum())"
   ]
  },
  {
   "cell_type": "code",
   "execution_count": 151,
   "metadata": {
    "id": "rTebKzp_6Gf2"
   },
   "outputs": [],
   "source": [
    "data.to_csv('finalv1.1.csv')"
   ]
  },
  {
   "cell_type": "code",
   "execution_count": 152,
   "metadata": {
    "id": "8zh3M1t76fXW"
   },
   "outputs": [],
   "source": [
    "X = data.drop('RainTomorrow', axis=1) # assuming the target variable is named 'target'\n",
    "y = data['RainTomorrow']\n",
    "X_train, X_test, y_train, y_test = train_test_split(X, y, test_size=0.2, random_state=42)"
   ]
  },
  {
   "cell_type": "code",
   "execution_count": 153,
   "metadata": {
    "colab": {
     "base_uri": "https://localhost:8080/"
    },
    "id": "OingqJVY7e3_",
    "outputId": "2a6f6a3e-6fa0-4fa1-e32b-9bd17d0fe536"
   },
   "outputs": [
    {
     "name": "stdout",
     "output_type": "stream",
     "text": [
      "Accuracy: 1.0\n"
     ]
    }
   ],
   "source": [
    "rf = RandomForestClassifier(n_estimators=100, random_state=42)\n",
    "\n",
    "# Train the model on the training data\n",
    "rf.fit(X_train, y_train)\n",
    "\n",
    "# Evaluate the model on the testing data\n",
    "score = rf.score(X_test, y_test)\n",
    "print(\"Accuracy:\", score)"
   ]
  }
 ],
 "metadata": {
  "colab": {
   "provenance": []
  },
  "kernelspec": {
   "display_name": "Python 3 (ipykernel)",
   "language": "python",
   "name": "python3"
  },
  "language_info": {
   "codemirror_mode": {
    "name": "ipython",
    "version": 3
   },
   "file_extension": ".py",
   "mimetype": "text/x-python",
   "name": "python",
   "nbconvert_exporter": "python",
   "pygments_lexer": "ipython3",
   "version": "3.10.11"
  }
 },
 "nbformat": 4,
 "nbformat_minor": 1
}
